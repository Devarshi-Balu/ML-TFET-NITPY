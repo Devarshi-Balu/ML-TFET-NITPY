{
 "cells": [
  {
   "cell_type": "code",
   "execution_count": 9,
   "metadata": {},
   "outputs": [],
   "source": [
    "import pandas as pd \n",
    "\n"
   ]
  },
  {
   "cell_type": "code",
   "execution_count": 10,
   "metadata": {},
   "outputs": [
    {
     "data": {
      "text/plain": [
       "Index(['Tsi', 'Tox', 'Ns', 'Nc', 'Nd', 'Vds', 'Vgs', 'Id'], dtype='object')"
      ]
     },
     "execution_count": 10,
     "metadata": {},
     "output_type": "execute_result"
    }
   ],
   "source": [
    "df = pd.read_csv(\"./test_data.csv\")\n",
    "df.columns"
   ]
  },
  {
   "cell_type": "code",
   "execution_count": 18,
   "metadata": {},
   "outputs": [
    {
     "data": {
      "text/html": [
       "<div>\n",
       "<style scoped>\n",
       "    .dataframe tbody tr th:only-of-type {\n",
       "        vertical-align: middle;\n",
       "    }\n",
       "\n",
       "    .dataframe tbody tr th {\n",
       "        vertical-align: top;\n",
       "    }\n",
       "\n",
       "    .dataframe thead th {\n",
       "        text-align: right;\n",
       "    }\n",
       "</style>\n",
       "<table border=\"1\" class=\"dataframe\">\n",
       "  <thead>\n",
       "    <tr style=\"text-align: right;\">\n",
       "      <th></th>\n",
       "      <th>Tox</th>\n",
       "      <th>Ns</th>\n",
       "      <th>Nc</th>\n",
       "      <th>Nd</th>\n",
       "      <th>Vds</th>\n",
       "      <th>Vgs</th>\n",
       "      <th>Id</th>\n",
       "    </tr>\n",
       "  </thead>\n",
       "  <tbody>\n",
       "    <tr>\n",
       "      <th>0</th>\n",
       "      <td>2.5</td>\n",
       "      <td>1.000000e+20</td>\n",
       "      <td>1.000000e+17</td>\n",
       "      <td>5.000000e+18</td>\n",
       "      <td>0.5</td>\n",
       "      <td>0.000000</td>\n",
       "      <td>2.330000e-18</td>\n",
       "    </tr>\n",
       "    <tr>\n",
       "      <th>1</th>\n",
       "      <td>2.5</td>\n",
       "      <td>1.000000e+20</td>\n",
       "      <td>1.000000e+17</td>\n",
       "      <td>5.000000e+18</td>\n",
       "      <td>0.5</td>\n",
       "      <td>0.002000</td>\n",
       "      <td>4.340000e-18</td>\n",
       "    </tr>\n",
       "    <tr>\n",
       "      <th>2</th>\n",
       "      <td>2.5</td>\n",
       "      <td>1.000000e+20</td>\n",
       "      <td>1.000000e+17</td>\n",
       "      <td>5.000000e+18</td>\n",
       "      <td>0.5</td>\n",
       "      <td>0.005733</td>\n",
       "      <td>1.130000e-18</td>\n",
       "    </tr>\n",
       "    <tr>\n",
       "      <th>3</th>\n",
       "      <td>2.5</td>\n",
       "      <td>1.000000e+20</td>\n",
       "      <td>1.000000e+17</td>\n",
       "      <td>5.000000e+18</td>\n",
       "      <td>0.5</td>\n",
       "      <td>0.012951</td>\n",
       "      <td>5.430000e-19</td>\n",
       "    </tr>\n",
       "    <tr>\n",
       "      <th>4</th>\n",
       "      <td>2.5</td>\n",
       "      <td>1.000000e+20</td>\n",
       "      <td>1.000000e+17</td>\n",
       "      <td>5.000000e+18</td>\n",
       "      <td>0.5</td>\n",
       "      <td>0.022951</td>\n",
       "      <td>4.520000e-18</td>\n",
       "    </tr>\n",
       "    <tr>\n",
       "      <th>...</th>\n",
       "      <td>...</td>\n",
       "      <td>...</td>\n",
       "      <td>...</td>\n",
       "      <td>...</td>\n",
       "      <td>...</td>\n",
       "      <td>...</td>\n",
       "      <td>...</td>\n",
       "    </tr>\n",
       "    <tr>\n",
       "      <th>1010</th>\n",
       "      <td>3.0</td>\n",
       "      <td>5.000000e+19</td>\n",
       "      <td>1.000000e+16</td>\n",
       "      <td>5.000000e+19</td>\n",
       "      <td>1.0</td>\n",
       "      <td>1.962951</td>\n",
       "      <td>5.757720e-04</td>\n",
       "    </tr>\n",
       "    <tr>\n",
       "      <th>1011</th>\n",
       "      <td>3.0</td>\n",
       "      <td>5.000000e+19</td>\n",
       "      <td>1.000000e+16</td>\n",
       "      <td>5.000000e+19</td>\n",
       "      <td>1.0</td>\n",
       "      <td>1.972951</td>\n",
       "      <td>5.810990e-04</td>\n",
       "    </tr>\n",
       "    <tr>\n",
       "      <th>1012</th>\n",
       "      <td>3.0</td>\n",
       "      <td>5.000000e+19</td>\n",
       "      <td>1.000000e+16</td>\n",
       "      <td>5.000000e+19</td>\n",
       "      <td>1.0</td>\n",
       "      <td>1.982951</td>\n",
       "      <td>5.864010e-04</td>\n",
       "    </tr>\n",
       "    <tr>\n",
       "      <th>1013</th>\n",
       "      <td>3.0</td>\n",
       "      <td>5.000000e+19</td>\n",
       "      <td>1.000000e+16</td>\n",
       "      <td>5.000000e+19</td>\n",
       "      <td>1.0</td>\n",
       "      <td>1.992951</td>\n",
       "      <td>5.916890e-04</td>\n",
       "    </tr>\n",
       "    <tr>\n",
       "      <th>1014</th>\n",
       "      <td>3.0</td>\n",
       "      <td>5.000000e+19</td>\n",
       "      <td>1.000000e+16</td>\n",
       "      <td>5.000000e+19</td>\n",
       "      <td>1.0</td>\n",
       "      <td>2.000000</td>\n",
       "      <td>5.953990e-04</td>\n",
       "    </tr>\n",
       "  </tbody>\n",
       "</table>\n",
       "<p>1015 rows × 7 columns</p>\n",
       "</div>"
      ],
      "text/plain": [
       "      Tox            Ns            Nc            Nd  Vds       Vgs  \\\n",
       "0     2.5  1.000000e+20  1.000000e+17  5.000000e+18  0.5  0.000000   \n",
       "1     2.5  1.000000e+20  1.000000e+17  5.000000e+18  0.5  0.002000   \n",
       "2     2.5  1.000000e+20  1.000000e+17  5.000000e+18  0.5  0.005733   \n",
       "3     2.5  1.000000e+20  1.000000e+17  5.000000e+18  0.5  0.012951   \n",
       "4     2.5  1.000000e+20  1.000000e+17  5.000000e+18  0.5  0.022951   \n",
       "...   ...           ...           ...           ...  ...       ...   \n",
       "1010  3.0  5.000000e+19  1.000000e+16  5.000000e+19  1.0  1.962951   \n",
       "1011  3.0  5.000000e+19  1.000000e+16  5.000000e+19  1.0  1.972951   \n",
       "1012  3.0  5.000000e+19  1.000000e+16  5.000000e+19  1.0  1.982951   \n",
       "1013  3.0  5.000000e+19  1.000000e+16  5.000000e+19  1.0  1.992951   \n",
       "1014  3.0  5.000000e+19  1.000000e+16  5.000000e+19  1.0  2.000000   \n",
       "\n",
       "                Id  \n",
       "0     2.330000e-18  \n",
       "1     4.340000e-18  \n",
       "2     1.130000e-18  \n",
       "3     5.430000e-19  \n",
       "4     4.520000e-18  \n",
       "...            ...  \n",
       "1010  5.757720e-04  \n",
       "1011  5.810990e-04  \n",
       "1012  5.864010e-04  \n",
       "1013  5.916890e-04  \n",
       "1014  5.953990e-04  \n",
       "\n",
       "[1015 rows x 7 columns]"
      ]
     },
     "execution_count": 18,
     "metadata": {},
     "output_type": "execute_result"
    }
   ],
   "source": [
    "df.drop('Tsi', axis = 1, inplace = False)"
   ]
  },
  {
   "cell_type": "code",
   "execution_count": 20,
   "metadata": {},
   "outputs": [
    {
     "data": {
      "text/plain": [
       "Index(['Tsi', 'Tox', 'Ns', 'Nc', 'Nd', 'Vds', 'Vgs', 'Id'], dtype='object')"
      ]
     },
     "execution_count": 20,
     "metadata": {},
     "output_type": "execute_result"
    }
   ],
   "source": [
    "df.columns\n"
   ]
  },
  {
   "cell_type": "code",
   "execution_count": 35,
   "metadata": {},
   "outputs": [
    {
     "name": "stdout",
     "output_type": "stream",
     "text": [
      "Index(['Tsi', 'Tox', 'Ns', 'Nc', 'Nd', 'Vds', 'Vgs', 'Id'], dtype='object')\n"
     ]
    }
   ],
   "source": [
    "print(df.columns)"
   ]
  },
  {
   "cell_type": "code",
   "execution_count": 36,
   "metadata": {},
   "outputs": [],
   "source": [
    "df.to_csv('./test_data.csv', index=False)"
   ]
  }
 ],
 "metadata": {
  "kernelspec": {
   "display_name": "Python 3",
   "language": "python",
   "name": "python3"
  },
  "language_info": {
   "codemirror_mode": {
    "name": "ipython",
    "version": 3
   },
   "file_extension": ".py",
   "mimetype": "text/x-python",
   "name": "python",
   "nbconvert_exporter": "python",
   "pygments_lexer": "ipython3",
   "version": "3.12.5"
  }
 },
 "nbformat": 4,
 "nbformat_minor": 2
}
